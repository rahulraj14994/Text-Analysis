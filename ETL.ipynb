{
 "cells": [
  {
   "cell_type": "code",
   "execution_count": 1,
   "id": "13dac9db",
   "metadata": {},
   "outputs": [],
   "source": [
    "import pandas as pd\n"
   ]
  },
  {
   "cell_type": "code",
   "execution_count": 4,
   "id": "ae58058a",
   "metadata": {},
   "outputs": [],
   "source": [
    "# Extract\n",
    "data = pd.read_csv('Sheet_1.csv') "
   ]
  },
  {
   "cell_type": "code",
   "execution_count": 5,
   "id": "b7738ce3",
   "metadata": {},
   "outputs": [],
   "source": [
    "# Transform\n",
    "data['length'] = data['response_text'].str.len()\n",
    "data['word_count'] = data['response_text'].apply(lambda x: len(x.split()))"
   ]
  },
  {
   "cell_type": "code",
   "execution_count": 6,
   "id": "a2a0705d",
   "metadata": {},
   "outputs": [],
   "source": [
    "# Load \n",
    "cleaned_data = data[['response_id', 'class', 'length', 'word_count']]\n",
    "cleaned_data.to_csv('cleaned_responses.csv', index=False)"
   ]
  },
  {
   "cell_type": "code",
   "execution_count": null,
   "id": "60ecb4b0",
   "metadata": {},
   "outputs": [],
   "source": []
  }
 ],
 "metadata": {
  "kernelspec": {
   "display_name": "Python 3 (ipykernel)",
   "language": "python",
   "name": "python3"
  },
  "language_info": {
   "codemirror_mode": {
    "name": "ipython",
    "version": 3
   },
   "file_extension": ".py",
   "mimetype": "text/x-python",
   "name": "python",
   "nbconvert_exporter": "python",
   "pygments_lexer": "ipython3",
   "version": "3.10.9"
  }
 },
 "nbformat": 4,
 "nbformat_minor": 5
}
